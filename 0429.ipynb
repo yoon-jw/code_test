{
 "cells": [
  {
   "cell_type": "code",
   "execution_count": null,
   "id": "548ee1bd",
   "metadata": {},
   "outputs": [],
   "source": [
    "N = int(input('숫자를 입력하시오 :'))\n",
    "for i in range(1,N+1):\n",
    "    print('*'*i+' '*(i-2)+'*'*i)\n",
    "for i in range(2,N+1):\n",
    "    print('*'*(N-i+1)+' '*(i-)+'*'*(N-i+1))"
   ]
  }
 ],
 "metadata": {
  "kernelspec": {
   "display_name": "Python 3 (ipykernel)",
   "language": "python",
   "name": "python3"
  },
  "language_info": {
   "codemirror_mode": {
    "name": "ipython",
    "version": 3
   },
   "file_extension": ".py",
   "mimetype": "text/x-python",
   "name": "python",
   "nbconvert_exporter": "python",
   "pygments_lexer": "ipython3",
   "version": "3.9.7"
  }
 },
 "nbformat": 4,
 "nbformat_minor": 5
}
