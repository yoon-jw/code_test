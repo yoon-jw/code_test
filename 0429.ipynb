{
 "cells": [
  {
   "cell_type": "code",
   "execution_count": 15,
   "id": "0614d477",
   "metadata": {},
   "outputs": [
    {
     "name": "stdout",
     "output_type": "stream",
     "text": [
      "5\n",
      "          \n",
      "*        *\n",
      "**      **\n",
      "***    ***\n",
      "****  ****\n",
      "**********\n",
      "****  ****\n",
      "***    ***\n",
      "**      **\n",
      "*        *\n"
     ]
    }
   ],
   "source": [
    "N = int(input())\n",
    "for i in range(2*N):\n",
    "    if i<=N :\n",
    "        print('*'*i+'  '*(N-i)+'*'*i)\n",
    "    else:\n",
    "        print('*'*(2*N-i)+'  '*(i-N)+'*'*(2*N-i))"
   ]
  },
  {
   "cell_type": "code",
   "execution_count": 16,
   "id": "f9eda518",
   "metadata": {},
   "outputs": [],
   "source": [
    "def solution(num_list):\n",
    "    answer = sorted(num_list)\n",
    "    return answer [5:]"
   ]
  },
  {
   "cell_type": "code",
   "execution_count": null,
   "id": "394be69a",
   "metadata": {},
   "outputs": [],
   "source": []
  }
 ],
 "metadata": {
  "kernelspec": {
   "display_name": "Python 3 (ipykernel)",
   "language": "python",
   "name": "python3"
  },
  "language_info": {
   "codemirror_mode": {
    "name": "ipython",
    "version": 3
   },
   "file_extension": ".py",
   "mimetype": "text/x-python",
   "name": "python",
   "nbconvert_exporter": "python",
   "pygments_lexer": "ipython3",
   "version": "3.9.7"
  }
 },
 "nbformat": 4,
 "nbformat_minor": 5
}
